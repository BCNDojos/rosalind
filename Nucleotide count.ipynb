{
 "cells": [
  {
   "cell_type": "markdown",
   "metadata": {},
   "source": [
    "# Count nucleotides"
   ]
  },
  {
   "cell_type": "markdown",
   "metadata": {},
   "source": [
    "This notebook tries to help and guide in the [Count nucleotides](http://rosalind.info/problems/dna/) [Rosalind](http://rosalind.info)'s problem solution."
   ]
  },
  {
   "cell_type": "markdown",
   "metadata": {},
   "source": [
    "[![Binder](https://mybinder.org/badge_logo.svg)](https://mybinder.org/v2/gh/BCNDojos/rosalind/master?filepath=Nucleotide%20count.ipynb)"
   ]
  },
  {
   "cell_type": "markdown",
   "metadata": {},
   "source": [
    "## Problem\n",
    "\n",
    "A string is simply an ordered collection of symbols selected from some alphabet and formed into a word; the length of a string is the number of symbols that it contains.\n",
    "\n",
    "An example of a length 21 DNA string (whose alphabet contains the symbols 'A', 'C', 'G', and 'T') is \"ATGCTTCAGAAAGGTCTTACG.\"\n",
    "\n",
    "**Given:** A DNA string s of length at most 1000 nt.\n",
    "\n",
    "**Return:** Four integers (separated by spaces) counting the respective number of times that the symbols 'A', 'C', 'G', and 'T' occur in s.\n",
    "\n",
    "### Sample Dataset\n",
    "```\n",
    "AGCTTTTCATTCTGACTGCAACGGGCAATATGTCTCTGTGTGGATTAAAAAAAGAGTGTCTGATAGCAGC\n",
    "```\n",
    "### Sample Output\n",
    "```\n",
    "20 12 17 21\n",
    "```"
   ]
  },
  {
   "cell_type": "markdown",
   "metadata": {},
   "source": [
    "## Explanations on this problem\n",
    "\n",
    "### DNA string representation\n",
    "When the DNA is represented in a string, the nucleotides are coded with their corresponding initial, i.e. `A` for Adenine, `C` for Cytosine, `G` for Guanine, and `T` for Thymine.\n",
    "\n",
    "![A sketch of DNA's primary structure (credit: rosalind.info)](http://rosalind.info/media/problems/dna/DNA_chemical_structure.thumb.png)\n",
    "\n",
    "As you may already know, each nucleotide corresponds to one single counterpart, i.e. `T` with `A` and viceversa, and `G` to `C` and viceversa. Then, each letter represents a base pair.\n",
    "\n",
    "### Datasets, sizes, and genomes\n",
    "\n",
    "The string representations for a species' whole genome can be a pretty longer string, from 10^6 to 10^11 bp.\n",
    "This causes a species' whole DNA string representations to be quite big files, between some MiB to a few TiB.\n",
    "\n",
    "![Graph of variation in estimated genome sizes in base pairs (credit: Abizar at English Wikipedia)](https://upload.wikimedia.org/wikipedia/commons/thumb/8/80/Genome_Sizes.png/640px-Genome_Sizes.png)\n",
    "\n",
    "Of course, sometimes it's only needed to work with a subset of the DNA, not its whole, but other times, much larger strings are used."
   ]
  },
  {
   "cell_type": "markdown",
   "metadata": {},
   "source": [
    "Because of this, this repository provides with a way to create simulated DNA of pretty different sizes to use for time profiling. This execution can take pretty long to complete:"
   ]
  },
  {
   "cell_type": "code",
   "execution_count": 1,
   "metadata": {
    "scrolled": false
   },
   "outputs": [
    {
     "name": "stdout",
     "output_type": "stream",
     "text": [
      "Archive:  rosalind_datasets.zip\n",
      "  inflating: dataset1                \n",
      "  inflating: dataset2                \n",
      "  inflating: dataset3                \n"
     ]
    }
   ],
   "source": [
    "!./setup.sh"
   ]
  },
  {
   "cell_type": "code",
   "execution_count": 2,
   "metadata": {},
   "outputs": [],
   "source": [
    "from helpers import run_and_measure"
   ]
  },
  {
   "cell_type": "markdown",
   "metadata": {},
   "source": [
    "## Implement your solution\n",
    "\n",
    "Now, use the following code cell to implement your solution.\n",
    "It should be done in less than twenty five minutes, so watch out for premature optimization."
   ]
  },
  {
   "cell_type": "code",
   "execution_count": 3,
   "metadata": {},
   "outputs": [],
   "source": [
    "def count_nucleotides(dna):\n",
    "    return 0, 0, 0, 0"
   ]
  },
  {
   "cell_type": "markdown",
   "metadata": {},
   "source": [
    "With the following code the function can be tested against an example string:"
   ]
  },
  {
   "cell_type": "code",
   "execution_count": 4,
   "metadata": {},
   "outputs": [
    {
     "ename": "AssertionError",
     "evalue": "",
     "output_type": "error",
     "traceback": [
      "\u001b[0;31m---------------------------------------------------------------------------\u001b[0m",
      "\u001b[0;31mAssertionError\u001b[0m                            Traceback (most recent call last)",
      "\u001b[0;32m<ipython-input-4-86e546e85198>\u001b[0m in \u001b[0;36m<module>\u001b[0;34m\u001b[0m\n\u001b[1;32m      1\u001b[0m \u001b[0mdna\u001b[0m \u001b[0;34m=\u001b[0m \u001b[0;34m'AGCTTTTCATTCTGACTGCAACGGGCAATATGTCTCTGTGTGGATTAAAAAAAGAGTGTCTGATAGCAGC'\u001b[0m\u001b[0;34m\u001b[0m\u001b[0;34m\u001b[0m\u001b[0m\n\u001b[0;32m----> 2\u001b[0;31m \u001b[0;32massert\u001b[0m \u001b[0mcount_nucleotides\u001b[0m\u001b[0;34m(\u001b[0m\u001b[0mdna\u001b[0m\u001b[0;34m)\u001b[0m \u001b[0;34m==\u001b[0m \u001b[0;34m(\u001b[0m\u001b[0;36m20\u001b[0m\u001b[0;34m,\u001b[0m \u001b[0;36m12\u001b[0m\u001b[0;34m,\u001b[0m \u001b[0;36m17\u001b[0m\u001b[0;34m,\u001b[0m \u001b[0;36m21\u001b[0m\u001b[0;34m)\u001b[0m\u001b[0;34m\u001b[0m\u001b[0;34m\u001b[0m\u001b[0m\n\u001b[0m",
      "\u001b[0;31mAssertionError\u001b[0m: "
     ]
    }
   ],
   "source": [
    "dna = 'AGCTTTTCATTCTGACTGCAACGGGCAATATGTCTCTGTGTGGATTAAAAAAAGAGTGTCTGATAGCAGC'\n",
    "assert count_nucleotides(dna) == (20, 12, 17, 21)"
   ]
  },
  {
   "cell_type": "markdown",
   "metadata": {},
   "source": [
    "## Performance analysis\n",
    "\n",
    "Once the assertion is passing without errors, it's time to see how this algorithm performs.\n",
    "\n",
    "Through using `run_and_measure` helper, the function can be used against some example dataset files, get the results, and execution times.\n",
    "It takes the first argument as the function name to use, and it feeds it with the contents of the files matching the pattern specified in the second argument.\n",
    "So, in this case, it will run the `count_nucleotides` three times with some time measurement: First, it will use `dataset1` file content; second run will be feeded with `dataset2` content, and `dataset3` content for the third time.\n",
    "\n",
    "It will print a message indicating which input file is being used; then, it will print the results; and, finally, the time the function took to complete, including time used to read the file."
   ]
  },
  {
   "cell_type": "code",
   "execution_count": 5,
   "metadata": {},
   "outputs": [
    {
     "name": "stdout",
     "output_type": "stream",
     "text": [
      "Processing dataset1\n",
      "0 0 0 0\n",
      "'count_nucleotides'  2.65 ms\n",
      "Processing dataset2\n",
      "0 0 0 0\n",
      "'count_nucleotides'  5.66 ms\n",
      "Processing dataset3\n",
      "0 0 0 0\n",
      "'count_nucleotides'  2426.62 ms\n"
     ]
    }
   ],
   "source": [
    "import sys\n",
    "\n",
    "run_and_measure(count_nucleotides, 'dataset*', file=sys.stdout)"
   ]
  },
  {
   "cell_type": "markdown",
   "metadata": {},
   "source": [
    "![Spoilers](https://media.giphy.com/media/hfzhxAYEAnihi/giphy.gif)"
   ]
  },
  {
   "cell_type": "markdown",
   "metadata": {},
   "source": [
    "# Solution\n",
    "\n",
    "The following cell shows one possible solution using an iterative approach.\n",
    "It's been kept as naive as possible, so when running the corresponding `run_and_measure` helper with it, the times can be pretty high.\n",
    "\n",
    "For the `dataset1` it will take a pretty reasonable time; for `dataset2` this time will increase in two orders of magnitude; while for `dataset3`, the orders of magnitude will be close to six times bigger than for `dataset1`.\n",
    "\n",
    "If this measuring execution would be tried for the other datasets, it could be running for hours."
   ]
  },
  {
   "cell_type": "code",
   "execution_count": 6,
   "metadata": {
    "tags": [
     "hide_input"
    ]
   },
   "outputs": [],
   "source": [
    "def count_nucleotides(dna):\n",
    "    A = C = G = T = 0\n",
    "\n",
    "    for nt in dna:\n",
    "        if nt == 'A':\n",
    "            A += 1\n",
    "        if nt == 'C':\n",
    "            C += 1\n",
    "        if nt == 'G':\n",
    "            G += 1\n",
    "        if nt == 'T':\n",
    "            T += 1\n",
    "\n",
    "    return A, C, G, T"
   ]
  },
  {
   "cell_type": "code",
   "execution_count": 7,
   "metadata": {},
   "outputs": [],
   "source": [
    "dna = 'AGCTTTTCATTCTGACTGCAACGGGCAATATGTCTCTGTGTGGATTAAAAAAAGAGTGTCTGATAGCAGC'\n",
    "assert count_nucleotides(dna) == (20, 12, 17, 21)"
   ]
  },
  {
   "cell_type": "code",
   "execution_count": 8,
   "metadata": {},
   "outputs": [
    {
     "name": "stdout",
     "output_type": "stream",
     "text": [
      "Processing dataset1\n",
      "243 232 253 219\n",
      "'count_nucleotides'  4.27 ms\n",
      "Processing dataset2\n",
      "243000 232000 253000 219000\n",
      "'count_nucleotides'  188.17 ms\n",
      "Processing dataset3\n",
      "243000000 232000000 253000000 219000000\n",
      "'count_nucleotides'  120571.72 ms\n"
     ]
    }
   ],
   "source": [
    "run_and_measure(count_nucleotides, 'dataset*', file=sys.stdout)"
   ]
  },
  {
   "cell_type": "markdown",
   "metadata": {},
   "source": [
    "Now, try to optimize the solution above..."
   ]
  },
  {
   "cell_type": "markdown",
   "metadata": {},
   "source": [
    "![Spoilers](https://media.giphy.com/media/InYOKYkV9CXbG/giphy.gif)"
   ]
  },
  {
   "cell_type": "markdown",
   "metadata": {},
   "source": [
    "# Time optimized solution\n",
    "\n",
    "The previous iterative version of `count_nucleotides` function is spending a lot of time in many places.\n",
    "One approach to optimize this would be change how the counters are managed, maybe using `elif`s or a `dict` for faster access and update, but any of these options are very small improvement.\n",
    "\n",
    "Its main problem is it is iterating over the whole string to get these counts.\n",
    "\n",
    "One possible way to fix that, more pythonic, would be to use the string's `count` method for each nucleotide symbol:"
   ]
  },
  {
   "cell_type": "code",
   "execution_count": 9,
   "metadata": {
    "tags": [
     "hide_input"
    ]
   },
   "outputs": [],
   "source": [
    "def count_nucleotides(dna):\n",
    "    return (\n",
    "        dna.count('A'),\n",
    "        dna.count('C'),\n",
    "        dna.count('G'),\n",
    "        dna.count('T'),\n",
    "    )"
   ]
  },
  {
   "cell_type": "code",
   "execution_count": 10,
   "metadata": {},
   "outputs": [],
   "source": [
    "dna = 'AGCTTTTCATTCTGACTGCAACGGGCAATATGTCTCTGTGTGGATTAAAAAAAGAGTGTCTGATAGCAGC'\n",
    "assert count_nucleotides(dna) == (20, 12, 17, 21)"
   ]
  },
  {
   "cell_type": "code",
   "execution_count": 11,
   "metadata": {},
   "outputs": [
    {
     "name": "stdout",
     "output_type": "stream",
     "text": [
      "Processing dataset1\n",
      "243 232 253 219\n",
      "'count_nucleotides'  1.37 ms\n",
      "Processing dataset2\n",
      "243000 232000 253000 219000\n",
      "'count_nucleotides'  51.53 ms\n",
      "Processing dataset3\n",
      "243000000 232000000 253000000 219000000\n",
      "'count_nucleotides'  4666.69 ms\n"
     ]
    }
   ],
   "source": [
    "run_and_measure(count_nucleotides, 'dataset*', file=sys.stdout)"
   ]
  },
  {
   "cell_type": "markdown",
   "metadata": {},
   "source": [
    "As you can see, the results for the smallest dataset are a little bit higher, two times the iterative implementation, but for the other two bigger datasets the time measurements are very much smaller: Almost four times smaller for the `dataset2`, and around 20 times smaller for the third dataset."
   ]
  }
 ],
 "metadata": {
  "kernelspec": {
   "display_name": "Python 3",
   "language": "python",
   "name": "python3"
  },
  "language_info": {
   "codemirror_mode": {
    "name": "ipython",
    "version": 3
   },
   "file_extension": ".py",
   "mimetype": "text/x-python",
   "name": "python",
   "nbconvert_exporter": "python",
   "pygments_lexer": "ipython3",
   "version": "3.7.3"
  }
 },
 "nbformat": 4,
 "nbformat_minor": 2
}
